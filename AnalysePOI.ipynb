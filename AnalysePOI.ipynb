{
 "cells": [
  {
   "cell_type": "markdown",
   "metadata": {},
   "source": [
    "<img src=\"http://naonedia.fr/wp-content/uploads/2018/10/logoNaonedia.png\" style=\"height:100px\">\n",
    "<h1>\n",
    "    <center>Expérience Logement</center>\n",
    "    <center>-</center>\n",
    "    <center>Analyse des points d'intérêts</center>\n",
    "</h1>\n",
    "\n",
    "\n",
    "<h3> Introduction </h3>\n",
    "\n",
    "Dans ce notebook nous allons voir comment on peut enrichir notre jeu de données.\n",
    "Pour cela nous allons utiliser <a href=\"https://github.com/GIScience/openrouteservice/\">OpenRouteService</a> et <a href=\"https://github.com/GIScience/openpoiservice/\">OpenPoiService</a>.\n",
    "Ces deux services nous permettent de localiser des points d'intérêts (POI) à partir d'une géolocalisation.\n",
    "\n",
    "Grâce à ces données nous allons pouvoir identifier les POIs positifs et négatifs. Ceux-ci peuvent potentiellement améliorer la précision de notre modèle en déterminant de façon plus précise les features discriminantes. Et donc par conséquence estimer le prix d'un  bien plus justement.\n",
    "\n",
    "<h3> Services </h3>\n",
    "\n",
    "Pour utiliser les différents, vous pouvez consulter <a href=\"https://github.com/naonedia/expe_logement_services\">notre répertoire</a>. Celui-ci contient tous les services utilisées pour le fonctionnement de notre service. Vous pourrez suivre les étapes d'installation afin de lancer en local vos services si vous avez besoin ré-enrichir les données.\n",
    "\n",
    "<h3>Informations</h3>\n",
    "\n",
    "Il est fortement conseillé d'utiliser Python3.x\n",
    "Si vous ne disposez pas de toutes les librairies requises , il suffit de l'installer en utilisant la commande suivante.\n",
    "<br>\n",
    "<code>pip3 install ....</code>\n",
    "\n",
    "<h3>Authors:</h3>\n",
    "<cite>Thibault Brocherieux - Ippon Technologies</cite>"
   ]
  },
  {
   "cell_type": "code",
   "execution_count": 1,
   "metadata": {},
   "outputs": [],
   "source": [
    "import folium\n",
    "import openrouteservice\n",
    "\n",
    "import pandas as pd\n",
    "import numpy as np\n",
    "import sys\n",
    "\n",
    "from geojson import MultiPolygon"
   ]
  },
  {
   "cell_type": "markdown",
   "metadata": {},
   "source": [
    "# Dataset\n",
    "\n",
    "  * [Demande de valeurs foncières](https://cadastre.data.gouv.fr/dvf#download)"
   ]
  },
  {
   "cell_type": "code",
   "execution_count": 2,
   "metadata": {},
   "outputs": [
    {
     "data": {
      "text/html": [
       "<div>\n",
       "<style scoped>\n",
       "    .dataframe tbody tr th:only-of-type {\n",
       "        vertical-align: middle;\n",
       "    }\n",
       "\n",
       "    .dataframe tbody tr th {\n",
       "        vertical-align: top;\n",
       "    }\n",
       "\n",
       "    .dataframe thead th {\n",
       "        text-align: right;\n",
       "    }\n",
       "</style>\n",
       "<table border=\"1\" class=\"dataframe\">\n",
       "  <thead>\n",
       "    <tr style=\"text-align: right;\">\n",
       "      <th></th>\n",
       "      <th>date_mutation</th>\n",
       "      <th>valeur_fonciere</th>\n",
       "      <th>code_postal</th>\n",
       "      <th>nom_commune</th>\n",
       "      <th>surface_carrez</th>\n",
       "      <th>type_local</th>\n",
       "      <th>surface_reelle_bati</th>\n",
       "      <th>nombre_pieces_principales</th>\n",
       "      <th>surface_terrain</th>\n",
       "      <th>longitude</th>\n",
       "      <th>latitude</th>\n",
       "    </tr>\n",
       "  </thead>\n",
       "  <tbody>\n",
       "    <tr>\n",
       "      <th>10</th>\n",
       "      <td>2014-01-02</td>\n",
       "      <td>194400.0</td>\n",
       "      <td>44100</td>\n",
       "      <td>Nantes</td>\n",
       "      <td>NaN</td>\n",
       "      <td>Appartement</td>\n",
       "      <td>84.0</td>\n",
       "      <td>4</td>\n",
       "      <td>NaN</td>\n",
       "      <td>-1.603261</td>\n",
       "      <td>47.209692</td>\n",
       "    </tr>\n",
       "    <tr>\n",
       "      <th>12</th>\n",
       "      <td>2014-01-02</td>\n",
       "      <td>107000.0</td>\n",
       "      <td>44800</td>\n",
       "      <td>Saint-Herblain</td>\n",
       "      <td>45.80</td>\n",
       "      <td>Appartement</td>\n",
       "      <td>46.0</td>\n",
       "      <td>2</td>\n",
       "      <td>NaN</td>\n",
       "      <td>-1.644254</td>\n",
       "      <td>47.207462</td>\n",
       "    </tr>\n",
       "    <tr>\n",
       "      <th>14</th>\n",
       "      <td>2014-01-09</td>\n",
       "      <td>208154.0</td>\n",
       "      <td>44300</td>\n",
       "      <td>Nantes</td>\n",
       "      <td>103.64</td>\n",
       "      <td>Appartement</td>\n",
       "      <td>103.0</td>\n",
       "      <td>5</td>\n",
       "      <td>NaN</td>\n",
       "      <td>-1.519753</td>\n",
       "      <td>47.272364</td>\n",
       "    </tr>\n",
       "    <tr>\n",
       "      <th>17</th>\n",
       "      <td>2014-01-06</td>\n",
       "      <td>79000.0</td>\n",
       "      <td>44000</td>\n",
       "      <td>Nantes</td>\n",
       "      <td>26.45</td>\n",
       "      <td>Appartement</td>\n",
       "      <td>25.0</td>\n",
       "      <td>1</td>\n",
       "      <td>NaN</td>\n",
       "      <td>-1.551322</td>\n",
       "      <td>47.216626</td>\n",
       "    </tr>\n",
       "    <tr>\n",
       "      <th>21</th>\n",
       "      <td>2014-01-02</td>\n",
       "      <td>335000.0</td>\n",
       "      <td>44300</td>\n",
       "      <td>Nantes</td>\n",
       "      <td>NaN</td>\n",
       "      <td>Maison</td>\n",
       "      <td>118.0</td>\n",
       "      <td>5</td>\n",
       "      <td>562.0</td>\n",
       "      <td>-1.506824</td>\n",
       "      <td>47.231122</td>\n",
       "    </tr>\n",
       "  </tbody>\n",
       "</table>\n",
       "</div>"
      ],
      "text/plain": [
       "   date_mutation  valeur_fonciere code_postal     nom_commune  surface_carrez  \\\n",
       "10    2014-01-02         194400.0       44100          Nantes             NaN   \n",
       "12    2014-01-02         107000.0       44800  Saint-Herblain           45.80   \n",
       "14    2014-01-09         208154.0       44300          Nantes          103.64   \n",
       "17    2014-01-06          79000.0       44000          Nantes           26.45   \n",
       "21    2014-01-02         335000.0       44300          Nantes             NaN   \n",
       "\n",
       "     type_local  surface_reelle_bati  nombre_pieces_principales  \\\n",
       "10  Appartement                 84.0                          4   \n",
       "12  Appartement                 46.0                          2   \n",
       "14  Appartement                103.0                          5   \n",
       "17  Appartement                 25.0                          1   \n",
       "21       Maison                118.0                          5   \n",
       "\n",
       "    surface_terrain  longitude   latitude  \n",
       "10              NaN  -1.603261  47.209692  \n",
       "12              NaN  -1.644254  47.207462  \n",
       "14              NaN  -1.519753  47.272364  \n",
       "17              NaN  -1.551322  47.216626  \n",
       "21            562.0  -1.506824  47.231122  "
      ]
     },
     "execution_count": 2,
     "metadata": {},
     "output_type": "execute_result"
    }
   ],
   "source": [
    "house_dataset = pd.read_pickle('data/datasets/dvf_nantes_cleaned.pkl.xz',  compression='xz')\n",
    "house_dataset.head()"
   ]
  },
  {
   "cell_type": "markdown",
   "metadata": {},
   "source": [
    "## Map visualization"
   ]
  },
  {
   "cell_type": "code",
   "execution_count": 3,
   "metadata": {},
   "outputs": [],
   "source": [
    "def addMarkerListToMap(coordList, current_map):\n",
    "    for elem in coordList:\n",
    "        folium.map.Marker([elem['latitude'],elem['longitude']], # reverse coords due to weird folium lat/lon syntax\n",
    "                      icon=folium.Icon(color='red',\n",
    "                                        icon_color='#cc0000',\n",
    "                                        icon='pushpin',\n",
    "                                        prefix='fa',\n",
    "                                       ),\n",
    "                 ).add_to(current_map) # Add apartment locations to map\n",
    "    \n",
    "    return current_map"
   ]
  },
  {
   "cell_type": "markdown",
   "metadata": {},
   "source": [
    "# Isochrone"
   ]
  },
  {
   "cell_type": "code",
   "execution_count": 4,
   "metadata": {},
   "outputs": [],
   "source": [
    "ORS_CLIENT = openrouteservice.Client(base_url='http://localhost:9999/ors')\n",
    "\n",
    "\n",
    "def buildIsochrone(timeOrDistance, profile, longitude, latitude):\n",
    "# Request of isochrones with 15 minute footwalk.\n",
    "    params_iso = {'profile': profile,\n",
    "                  'intervals': [timeOrDistance], # 900/60 = 15 mins\n",
    "                  'attributes': ['total_pop'], # Get population count for isochrones\n",
    "                  'locations': [[longitude,latitude]] # Add apartment coords to request parameters\n",
    "             }    \n",
    "    return ORS_CLIENT.isochrones(**params_iso) # Perform isochrone request"
   ]
  },
  {
   "cell_type": "code",
   "execution_count": 5,
   "metadata": {
    "scrolled": true
   },
   "outputs": [
    {
     "data": {
      "text/html": [
       "<div style=\"width:100%;\"><div style=\"position:relative;width:100%;height:0;padding-bottom:60%;\"><iframe src=\"data:text/html;charset=utf-8;base64,PCFET0NUWVBFIGh0bWw+CjxoZWFkPiAgICAKICAgIDxtZXRhIGh0dHAtZXF1aXY9ImNvbnRlbnQtdHlwZSIgY29udGVudD0idGV4dC9odG1sOyBjaGFyc2V0PVVURi04IiAvPgogICAgCiAgICAgICAgPHNjcmlwdD4KICAgICAgICAgICAgTF9OT19UT1VDSCA9IGZhbHNlOwogICAgICAgICAgICBMX0RJU0FCTEVfM0QgPSBmYWxzZTsKICAgICAgICA8L3NjcmlwdD4KICAgIAogICAgPHNjcmlwdCBzcmM9Imh0dHBzOi8vY2RuLmpzZGVsaXZyLm5ldC9ucG0vbGVhZmxldEAxLjUuMS9kaXN0L2xlYWZsZXQuanMiPjwvc2NyaXB0PgogICAgPHNjcmlwdCBzcmM9Imh0dHBzOi8vY29kZS5qcXVlcnkuY29tL2pxdWVyeS0xLjEyLjQubWluLmpzIj48L3NjcmlwdD4KICAgIDxzY3JpcHQgc3JjPSJodHRwczovL21heGNkbi5ib290c3RyYXBjZG4uY29tL2Jvb3RzdHJhcC8zLjIuMC9qcy9ib290c3RyYXAubWluLmpzIj48L3NjcmlwdD4KICAgIDxzY3JpcHQgc3JjPSJodHRwczovL2NkbmpzLmNsb3VkZmxhcmUuY29tL2FqYXgvbGlicy9MZWFmbGV0LmF3ZXNvbWUtbWFya2Vycy8yLjAuMi9sZWFmbGV0LmF3ZXNvbWUtbWFya2Vycy5qcyI+PC9zY3JpcHQ+CiAgICA8bGluayByZWw9InN0eWxlc2hlZXQiIGhyZWY9Imh0dHBzOi8vY2RuLmpzZGVsaXZyLm5ldC9ucG0vbGVhZmxldEAxLjUuMS9kaXN0L2xlYWZsZXQuY3NzIi8+CiAgICA8bGluayByZWw9InN0eWxlc2hlZXQiIGhyZWY9Imh0dHBzOi8vbWF4Y2RuLmJvb3RzdHJhcGNkbi5jb20vYm9vdHN0cmFwLzMuMi4wL2Nzcy9ib290c3RyYXAubWluLmNzcyIvPgogICAgPGxpbmsgcmVsPSJzdHlsZXNoZWV0IiBocmVmPSJodHRwczovL21heGNkbi5ib290c3RyYXBjZG4uY29tL2Jvb3RzdHJhcC8zLjIuMC9jc3MvYm9vdHN0cmFwLXRoZW1lLm1pbi5jc3MiLz4KICAgIDxsaW5rIHJlbD0ic3R5bGVzaGVldCIgaHJlZj0iaHR0cHM6Ly9tYXhjZG4uYm9vdHN0cmFwY2RuLmNvbS9mb250LWF3ZXNvbWUvNC42LjMvY3NzL2ZvbnQtYXdlc29tZS5taW4uY3NzIi8+CiAgICA8bGluayByZWw9InN0eWxlc2hlZXQiIGhyZWY9Imh0dHBzOi8vY2RuanMuY2xvdWRmbGFyZS5jb20vYWpheC9saWJzL0xlYWZsZXQuYXdlc29tZS1tYXJrZXJzLzIuMC4yL2xlYWZsZXQuYXdlc29tZS1tYXJrZXJzLmNzcyIvPgogICAgPGxpbmsgcmVsPSJzdHlsZXNoZWV0IiBocmVmPSJodHRwczovL3Jhd2Nkbi5naXRoYWNrLmNvbS9weXRob24tdmlzdWFsaXphdGlvbi9mb2xpdW0vbWFzdGVyL2ZvbGl1bS90ZW1wbGF0ZXMvbGVhZmxldC5hd2Vzb21lLnJvdGF0ZS5jc3MiLz4KICAgIDxzdHlsZT5odG1sLCBib2R5IHt3aWR0aDogMTAwJTtoZWlnaHQ6IDEwMCU7bWFyZ2luOiAwO3BhZGRpbmc6IDA7fTwvc3R5bGU+CiAgICA8c3R5bGU+I21hcCB7cG9zaXRpb246YWJzb2x1dGU7dG9wOjA7Ym90dG9tOjA7cmlnaHQ6MDtsZWZ0OjA7fTwvc3R5bGU+CiAgICAKICAgICAgICAgICAgPG1ldGEgbmFtZT0idmlld3BvcnQiIGNvbnRlbnQ9IndpZHRoPWRldmljZS13aWR0aCwKICAgICAgICAgICAgICAgIGluaXRpYWwtc2NhbGU9MS4wLCBtYXhpbXVtLXNjYWxlPTEuMCwgdXNlci1zY2FsYWJsZT1ubyIgLz4KICAgICAgICAgICAgPHN0eWxlPgogICAgICAgICAgICAgICAgI21hcF8wYzczMmUwMzNjOGM0ZGE5YjBlMGYzY2YyZTQ4MjQxNiB7CiAgICAgICAgICAgICAgICAgICAgcG9zaXRpb246IHJlbGF0aXZlOwogICAgICAgICAgICAgICAgICAgIHdpZHRoOiAxMDAuMCU7CiAgICAgICAgICAgICAgICAgICAgaGVpZ2h0OiAxMDAuMCU7CiAgICAgICAgICAgICAgICAgICAgbGVmdDogMC4wJTsKICAgICAgICAgICAgICAgICAgICB0b3A6IDAuMCU7CiAgICAgICAgICAgICAgICB9CiAgICAgICAgICAgIDwvc3R5bGU+CiAgICAgICAgCjwvaGVhZD4KPGJvZHk+ICAgIAogICAgCiAgICAgICAgICAgIDxkaXYgY2xhc3M9ImZvbGl1bS1tYXAiIGlkPSJtYXBfMGM3MzJlMDMzYzhjNGRhOWIwZTBmM2NmMmU0ODI0MTYiID48L2Rpdj4KICAgICAgICAKPC9ib2R5Pgo8c2NyaXB0PiAgICAKICAgIAogICAgICAgICAgICB2YXIgbWFwXzBjNzMyZTAzM2M4YzRkYTliMGUwZjNjZjJlNDgyNDE2ID0gTC5tYXAoCiAgICAgICAgICAgICAgICAibWFwXzBjNzMyZTAzM2M4YzRkYTliMGUwZjNjZjJlNDgyNDE2IiwKICAgICAgICAgICAgICAgIHsKICAgICAgICAgICAgICAgICAgICBjZW50ZXI6IFs0Ny4yMTgzNzEsIC0xLjU1MzYyMV0sCiAgICAgICAgICAgICAgICAgICAgY3JzOiBMLkNSUy5FUFNHMzg1NywKICAgICAgICAgICAgICAgICAgICB6b29tOiAxMiwKICAgICAgICAgICAgICAgICAgICB6b29tQ29udHJvbDogdHJ1ZSwKICAgICAgICAgICAgICAgICAgICBwcmVmZXJDYW52YXM6IGZhbHNlLAogICAgICAgICAgICAgICAgfQogICAgICAgICAgICApOwoKICAgICAgICAgICAgCgogICAgICAgIAogICAgCiAgICAgICAgICAgIHZhciB0aWxlX2xheWVyXzhmYmM4YThhY2Q2ZjRjMjQ5M2RkOTJmNTBlYWQwY2U4ID0gTC50aWxlTGF5ZXIoCiAgICAgICAgICAgICAgICAiaHR0cHM6Ly97c30udGlsZS5vcGVuc3RyZWV0bWFwLm9yZy97en0ve3h9L3t5fS5wbmciLAogICAgICAgICAgICAgICAgeyJhdHRyaWJ1dGlvbiI6ICJEYXRhIGJ5IFx1MDAyNmNvcHk7IFx1MDAzY2EgaHJlZj1cImh0dHA6Ly9vcGVuc3RyZWV0bWFwLm9yZ1wiXHUwMDNlT3BlblN0cmVldE1hcFx1MDAzYy9hXHUwMDNlLCB1bmRlciBcdTAwM2NhIGhyZWY9XCJodHRwOi8vd3d3Lm9wZW5zdHJlZXRtYXAub3JnL2NvcHlyaWdodFwiXHUwMDNlT0RiTFx1MDAzYy9hXHUwMDNlLiIsICJkZXRlY3RSZXRpbmEiOiBmYWxzZSwgIm1heE5hdGl2ZVpvb20iOiAxOCwgIm1heFpvb20iOiAxOCwgIm1pblpvb20iOiAwLCAibm9XcmFwIjogZmFsc2UsICJvcGFjaXR5IjogMSwgInN1YmRvbWFpbnMiOiAiYWJjIiwgInRtcyI6IGZhbHNlfQogICAgICAgICAgICApLmFkZFRvKG1hcF8wYzczMmUwMzNjOGM0ZGE5YjBlMGYzY2YyZTQ4MjQxNik7CiAgICAgICAgCiAgICAKICAgICAgICBmdW5jdGlvbiBnZW9fanNvbl8yNWZjMzNlOTA1ZDA0ZjRkYTc2ZTU5MmY1ZTg1ZDE5ZV9vbkVhY2hGZWF0dXJlKGZlYXR1cmUsIGxheWVyKSB7CiAgICAgICAgICAgIGxheWVyLm9uKHsKICAgICAgICAgICAgICAgIGNsaWNrOiBmdW5jdGlvbihlKSB7CiAgICAgICAgICAgICAgICAgICAgbWFwXzBjNzMyZTAzM2M4YzRkYTliMGUwZjNjZjJlNDgyNDE2LmZpdEJvdW5kcyhlLnRhcmdldC5nZXRCb3VuZHMoKSk7CiAgICAgICAgICAgICAgICB9CiAgICAgICAgICAgIH0pOwogICAgICAgIH07CiAgICAgICAgdmFyIGdlb19qc29uXzI1ZmMzM2U5MDVkMDRmNGRhNzZlNTkyZjVlODVkMTllID0gTC5nZW9Kc29uKG51bGwsIHsKICAgICAgICAgICAgICAgIG9uRWFjaEZlYXR1cmU6IGdlb19qc29uXzI1ZmMzM2U5MDVkMDRmNGRhNzZlNTkyZjVlODVkMTllX29uRWFjaEZlYXR1cmUsCiAgICAgICAgICAgIAogICAgICAgIH0pLmFkZFRvKG1hcF8wYzczMmUwMzNjOGM0ZGE5YjBlMGYzY2YyZTQ4MjQxNik7CiAgICAgICAgICAgIGdlb19qc29uXzI1ZmMzM2U5MDVkMDRmNGRhNzZlNTkyZjVlODVkMTllLmFkZERhdGEoeyJiYm94IjogWy0xLjYxODk4NywgNDcuMTk4NDg2LCAtMS41ODcxODEsIDQ3LjIyMDk3M10sICJmZWF0dXJlcyI6IFt7Imdlb21ldHJ5IjogeyJjb29yZGluYXRlcyI6IFtbWy0xLjYxODk4NywgNDcuMjEyODY4XSwgWy0xLjYxODYyMiwgNDcuMjEwMDcyXSwgWy0xLjYxODUyMywgNDcuMjA5NDM2XSwgWy0xLjYxNzMxMywgNDcuMjA2OTA3XSwgWy0xLjYxNTM1OCwgNDcuMjA0Ml0sIFstMS42MTI1OTQsIDQ3LjIwMDQyNF0sIFstMS42MDk0NzksIDQ3LjE5ODU4N10sIFstMS42MDk0NTUsIDQ3LjE5ODU4XSwgWy0xLjYwOTQwMSwgNDcuMTk4NTY3XSwgWy0xLjYwOTM0NSwgNDcuMTk4NTU0XSwgWy0xLjYwNzQ1OCwgNDcuMTk4NDg2XSwgWy0xLjYwNDczNSwgNDcuMTk4Njg1XSwgWy0xLjYwMDQ4MiwgNDcuMTk5MjI3XSwgWy0xLjU5ODI5LCA0Ny4yMDAyNTRdLCBbLTEuNTk2ODYsIDQ3LjIwMTIyNF0sIFstMS41OTI5MzgsIDQ3LjIwMzMxMV0sIFstMS41OTA0NjIsIDQ3LjIwNDUxOV0sIFstMS41OTA0MjMsIDQ3LjIwNDU0M10sIFstMS41OTAyODksIDQ3LjIwNDYzOF0sIFstMS41OTAyNTgsIDQ3LjIwNDY2NV0sIFstMS41ODc1MzksIDQ3LjIwODAyN10sIFstMS41ODcxODEsIDQ3LjIxMDQ4OV0sIFstMS41ODcyNCwgNDcuMjEwNTkyXSwgWy0xLjU4OTEyLCA0Ny4yMTI3NV0sIFstMS41OTE0OTUsIDQ3LjIxNTUzNV0sIFstMS41OTQ3NzcsIDQ3LjIxODY3N10sIFstMS41OTQ5NTcsIDQ3LjIxODc0XSwgWy0xLjU5NTcwOSwgNDcuMjE5XSwgWy0xLjYwMTI1OSwgNDcuMjIwOTczXSwgWy0xLjYwNDkwNCwgNDcuMjIwMDU1XSwgWy0xLjYwODQ4NywgNDcuMjE5Mzc4XSwgWy0xLjYxMTE3NSwgNDcuMjE4NzE2XSwgWy0xLjYxNjQzOSwgNDcuMjE2MjM4XSwgWy0xLjYxNjQ3NCwgNDcuMjE2MjE1XSwgWy0xLjYxNzAzNywgNDcuMjE1NTk3XSwgWy0xLjYxODk4NywgNDcuMjEyODY4XV1dLCAidHlwZSI6ICJQb2x5Z29uIn0sICJwcm9wZXJ0aWVzIjogeyJjZW50ZXIiOiBbLTEuNjAzMzMyMDExNDc2MTI5NiwgNDcuMjA5NjEzMTQ5MDgyOTU1XSwgImdyb3VwX2luZGV4IjogMCwgInZhbHVlIjogOTAwLjB9LCAidHlwZSI6ICJGZWF0dXJlIn1dLCAibWV0YWRhdGEiOiB7ImF0dHJpYnV0aW9uIjogIm9wZW5yb3V0ZXNlcnZpY2Uub3JnLCBPcGVuU3RyZWV0TWFwIGNvbnRyaWJ1dG9ycyIsICJlbmdpbmUiOiB7ImJ1aWxkX2RhdGUiOiAiMjAxOS0wOC0xM1QwOTowNzoxOVoiLCAidmVyc2lvbiI6ICI1LjAuMSJ9LCAicXVlcnkiOiB7ImF0dHJpYnV0ZXMiOiBbInRvdGFsX3BvcCJdLCAibG9jYXRpb25zIjogW1stMS42MDMyNjEsIDQ3LjIwOTY5Ml1dLCAicmFuZ2UiOiBbOTAwLjBdLCAicmFuZ2VfdHlwZSI6ICJ0aW1lIn0sICJzZXJ2aWNlIjogImlzb2Nocm9uZXMiLCAidGltZXN0YW1wIjogMTU2NjU1MTg5NDExNX0sICJ0eXBlIjogIkZlYXR1cmVDb2xsZWN0aW9uIn0pOwogICAgICAgIAo8L3NjcmlwdD4=\" style=\"position:absolute;width:100%;height:100%;left:0;top:0;border:none !important;\" allowfullscreen webkitallowfullscreen mozallowfullscreen></iframe></div></div>"
      ],
      "text/plain": [
       "<folium.folium.Map at 0x1160cac50>"
      ]
     },
     "execution_count": 5,
     "metadata": {},
     "output_type": "execute_result"
    }
   ],
   "source": [
    "map1 = folium.Map(tiles='openstreetmap', location=([47.218371, -1.553621]), zoom_start=12)\n",
    "iso = buildIsochrone(900,'foot-walking',house_dataset.iloc[0]['longitude'], house_dataset.iloc[0]['latitude'])\n",
    "folium.features.GeoJson(iso).add_to(map1)\n",
    "\n",
    "map1"
   ]
  },
  {
   "cell_type": "markdown",
   "metadata": {},
   "source": [
    "## Points Of Interests"
   ]
  },
  {
   "cell_type": "code",
   "execution_count": 6,
   "metadata": {},
   "outputs": [],
   "source": [
    "POI_CLIENT = openrouteservice.Client(base_url='http://localhost:5000')\n",
    "\n",
    "def getPOIForHouse(df, categories_poi, map1, index, timeOrDistance=900, profile='foot-walking'):\n",
    "    # Retrieve specific house\n",
    "    row = df.iloc[[index]]\n",
    "\n",
    "    # Get Isochrones\n",
    "    iso = buildIsochrone(timeOrDistance, profile,row['longitude'].item(), row['latitude'].item())\n",
    "    \n",
    "    # Draw isochrone on map\n",
    "    folium.features.GeoJson(iso).add_to(map1)\n",
    "    \n",
    "    # Center map on house\n",
    "    map1.location = [row['latitude'].item(),row['longitude'].item()]\n",
    "    \n",
    "    # Draw house marker on map\n",
    "    folium.map.Marker(\n",
    "        [row['latitude'].item(),row['longitude'].item()],\n",
    "        icon=folium.Icon(color='lightgray', icon_color='#cc0000', icon='home', prefix='fa'),\n",
    "        popup=\"%i m2,  %i pièces\\n%i €\" % (row['surface_reelle_bati'].item(), row['nombre_pieces_principales'].item(),row['valeur_fonciere'].item())\n",
    "    ).add_to(map1)\n",
    "    \n",
    "    # Common request parameters\n",
    "    params_poi = {'request': 'pois', 'sortby': 'distance', 'geojson': iso['features'][0]['geometry'] }\n",
    "\n",
    "    poi = {}\n",
    "    treatedLocations = []\n",
    "\n",
    "    for typ, category in categories_poi.items():\n",
    "        params_poi['filter_category_ids'] = category\n",
    "        poi[typ] = dict()        \n",
    "        poi[typ]['geojson'] = POI_CLIENT.places(**params_poi)[0]['features'] # Actual POI request\n",
    "        \n",
    "        \n",
    "        treatedLocations = []\n",
    "        for elem in poi[typ]['geojson']:\n",
    "            if elem['geometry']['coordinates'] not in treatedLocations:\n",
    "                treatedLocations.append(elem['geometry']['coordinates'])\n",
    "            \n",
    "                folium.map.Marker(list(reversed(elem['geometry']['coordinates'])), # reverse coords due to weird folium lat/lon syntax\n",
    "                          icon=folium.Icon(color='blue',\n",
    "                                            icon_color='#cc0000',\n",
    "                                            icon='pushpin',\n",
    "                                            prefix='fa',\n",
    "                                           ),\n",
    "                     ).add_to(map1) # Add apartment locations to map\n",
    "        poi[typ]['geojson'] = treatedLocations\n",
    "\n",
    "    return map1    "
   ]
  },
  {
   "cell_type": "code",
   "execution_count": 7,
   "metadata": {},
   "outputs": [],
   "source": [
    "def getPOIGroupForHouse(row, poi_group_id, timeOrDistance=900, profile='foot-walking'):\n",
    "    iso = {}\n",
    "    # Get Isochrones\n",
    "    if pd.Series == type(row) :\n",
    "        iso = buildIsochrone(timeOrDistance, profile, row['longitude'], row['latitude'])\n",
    "    else:\n",
    "        iso = buildIsochrone(timeOrDistance, profile, row['longitude'].item(), row['latitude'].item())\n",
    "\n",
    "    # Common request parameters\n",
    "    params_poi = {'request': 'pois', 'filter_category_group_ids': poi_group_id, 'sortby': 'distance', 'geojson': iso['features'][0]['geometry']}\n",
    "    \n",
    "    poi = {}\n",
    "    treatedLocations = []\n",
    "    \n",
    "    poi = POI_CLIENT.places(**params_poi)[0]['features'] # Actual POI request\n",
    "    \n",
    "    treatedLocations = []\n",
    "    res = []\n",
    "    for elem in poi:\n",
    "        if elem['geometry']['coordinates'] not in treatedLocations:\n",
    "            treatedLocations.append(elem['geometry']['coordinates'])\n",
    "            res.append(elem)\n",
    "        \n",
    "    return iso, res\n",
    "\n",
    "def getPOIGroupForHouseMap(row, poi_group_id, map1, timeOrDistance=900, profile='foot-walking'):\n",
    "\n",
    "    iso, poi = getPOIGroupForHouse(row, poi_group_id, timeOrDistance, profile)\n",
    "    \n",
    "    # Draw isochrone on map\n",
    "    folium.features.GeoJson(iso).add_to(map1)\n",
    "    \n",
    "    # Center map on house\n",
    "    map1.location = [row['latitude'].item(),row['longitude'].item()]\n",
    "    \n",
    "    # Draw house marker on map\n",
    "    folium.map.Marker(\n",
    "        [row['latitude'].item(),row['longitude'].item()],\n",
    "        icon=folium.Icon(color='lightgray', icon_color='#cc0000', icon='home', prefix='fa'),\n",
    "        popup=\"%i m2,  %i pièces\\n%i €\" % (row['surface_reelle_bati'].item(), row['nombre_pieces_principales'].item(),row['valeur_fonciere'].item())\n",
    "    ).add_to(map1)\n",
    "    \n",
    "    for elem in poi:\n",
    "        folium.map.Marker(list(reversed(elem['geometry']['coordinates'])), # reverse coords due to weird folium lat/lon syntax\n",
    "                          icon=folium.Icon(color='blue', icon_color='#cc0000', icon='pushpin', prefix='fa',),).add_to(map1) # Add apartment locations to map\n",
    "        \n",
    "    return map1"
   ]
  },
  {
   "cell_type": "markdown",
   "metadata": {},
   "source": [
    "# Visualization"
   ]
  },
  {
   "cell_type": "code",
   "execution_count": 9,
   "metadata": {
    "scrolled": false
   },
   "outputs": [
    {
     "name": "stderr",
     "output_type": "stream",
     "text": [
      "/usr/local/lib/python3.7/site-packages/ipykernel_launcher.py:8: FutureWarning: `item` has been deprecated and will be removed in a future version\n",
      "  \n",
      "/usr/local/lib/python3.7/site-packages/ipykernel_launcher.py:14: FutureWarning: `item` has been deprecated and will be removed in a future version\n",
      "  \n",
      "/usr/local/lib/python3.7/site-packages/ipykernel_launcher.py:18: FutureWarning: `item` has been deprecated and will be removed in a future version\n",
      "/usr/local/lib/python3.7/site-packages/ipykernel_launcher.py:20: FutureWarning: `item` has been deprecated and will be removed in a future version\n"
     ]
    },
    {
     "data": {
      "text/html": [
       "<div style=\"width:100%;\"><div style=\"position:relative;width:100%;height:0;padding-bottom:60%;\"><iframe src=\"data:text/html;charset=utf-8;base64,PCFET0NUWVBFIGh0bWw+CjxoZWFkPiAgICAKICAgIDxtZXRhIGh0dHAtZXF1aXY9ImNvbnRlbnQtdHlwZSIgY29udGVudD0idGV4dC9odG1sOyBjaGFyc2V0PVVURi04IiAvPgogICAgCiAgICAgICAgPHNjcmlwdD4KICAgICAgICAgICAgTF9OT19UT1VDSCA9IGZhbHNlOwogICAgICAgICAgICBMX0RJU0FCTEVfM0QgPSBmYWxzZTsKICAgICAgICA8L3NjcmlwdD4KICAgIAogICAgPHNjcmlwdCBzcmM9Imh0dHBzOi8vY2RuLmpzZGVsaXZyLm5ldC9ucG0vbGVhZmxldEAxLjUuMS9kaXN0L2xlYWZsZXQuanMiPjwvc2NyaXB0PgogICAgPHNjcmlwdCBzcmM9Imh0dHBzOi8vY29kZS5qcXVlcnkuY29tL2pxdWVyeS0xLjEyLjQubWluLmpzIj48L3NjcmlwdD4KICAgIDxzY3JpcHQgc3JjPSJodHRwczovL21heGNkbi5ib290c3RyYXBjZG4uY29tL2Jvb3RzdHJhcC8zLjIuMC9qcy9ib290c3RyYXAubWluLmpzIj48L3NjcmlwdD4KICAgIDxzY3JpcHQgc3JjPSJodHRwczovL2NkbmpzLmNsb3VkZmxhcmUuY29tL2FqYXgvbGlicy9MZWFmbGV0LmF3ZXNvbWUtbWFya2Vycy8yLjAuMi9sZWFmbGV0LmF3ZXNvbWUtbWFya2Vycy5qcyI+PC9zY3JpcHQ+CiAgICA8bGluayByZWw9InN0eWxlc2hlZXQiIGhyZWY9Imh0dHBzOi8vY2RuLmpzZGVsaXZyLm5ldC9ucG0vbGVhZmxldEAxLjUuMS9kaXN0L2xlYWZsZXQuY3NzIi8+CiAgICA8bGluayByZWw9InN0eWxlc2hlZXQiIGhyZWY9Imh0dHBzOi8vbWF4Y2RuLmJvb3RzdHJhcGNkbi5jb20vYm9vdHN0cmFwLzMuMi4wL2Nzcy9ib290c3RyYXAubWluLmNzcyIvPgogICAgPGxpbmsgcmVsPSJzdHlsZXNoZWV0IiBocmVmPSJodHRwczovL21heGNkbi5ib290c3RyYXBjZG4uY29tL2Jvb3RzdHJhcC8zLjIuMC9jc3MvYm9vdHN0cmFwLXRoZW1lLm1pbi5jc3MiLz4KICAgIDxsaW5rIHJlbD0ic3R5bGVzaGVldCIgaHJlZj0iaHR0cHM6Ly9tYXhjZG4uYm9vdHN0cmFwY2RuLmNvbS9mb250LWF3ZXNvbWUvNC42LjMvY3NzL2ZvbnQtYXdlc29tZS5taW4uY3NzIi8+CiAgICA8bGluayByZWw9InN0eWxlc2hlZXQiIGhyZWY9Imh0dHBzOi8vY2RuanMuY2xvdWRmbGFyZS5jb20vYWpheC9saWJzL0xlYWZsZXQuYXdlc29tZS1tYXJrZXJzLzIuMC4yL2xlYWZsZXQuYXdlc29tZS1tYXJrZXJzLmNzcyIvPgogICAgPGxpbmsgcmVsPSJzdHlsZXNoZWV0IiBocmVmPSJodHRwczovL3Jhd2Nkbi5naXRoYWNrLmNvbS9weXRob24tdmlzdWFsaXphdGlvbi9mb2xpdW0vbWFzdGVyL2ZvbGl1bS90ZW1wbGF0ZXMvbGVhZmxldC5hd2Vzb21lLnJvdGF0ZS5jc3MiLz4KICAgIDxzdHlsZT5odG1sLCBib2R5IHt3aWR0aDogMTAwJTtoZWlnaHQ6IDEwMCU7bWFyZ2luOiAwO3BhZGRpbmc6IDA7fTwvc3R5bGU+CiAgICA8c3R5bGU+I21hcCB7cG9zaXRpb246YWJzb2x1dGU7dG9wOjA7Ym90dG9tOjA7cmlnaHQ6MDtsZWZ0OjA7fTwvc3R5bGU+CiAgICAKICAgICAgICAgICAgPG1ldGEgbmFtZT0idmlld3BvcnQiIGNvbnRlbnQ9IndpZHRoPWRldmljZS13aWR0aCwKICAgICAgICAgICAgICAgIGluaXRpYWwtc2NhbGU9MS4wLCBtYXhpbXVtLXNjYWxlPTEuMCwgdXNlci1zY2FsYWJsZT1ubyIgLz4KICAgICAgICAgICAgPHN0eWxlPgogICAgICAgICAgICAgICAgI21hcF9jMjZkNjdkNzVmZWU0M2Q4YjgxZDhhOWRjODIzMjQzMiB7CiAgICAgICAgICAgICAgICAgICAgcG9zaXRpb246IHJlbGF0aXZlOwogICAgICAgICAgICAgICAgICAgIHdpZHRoOiAxMDAuMCU7CiAgICAgICAgICAgICAgICAgICAgaGVpZ2h0OiAxMDAuMCU7CiAgICAgICAgICAgICAgICAgICAgbGVmdDogMC4wJTsKICAgICAgICAgICAgICAgICAgICB0b3A6IDAuMCU7CiAgICAgICAgICAgICAgICB9CiAgICAgICAgICAgIDwvc3R5bGU+CiAgICAgICAgCjwvaGVhZD4KPGJvZHk+ICAgIAogICAgCiAgICAgICAgICAgIDxkaXYgY2xhc3M9ImZvbGl1bS1tYXAiIGlkPSJtYXBfYzI2ZDY3ZDc1ZmVlNDNkOGI4MWQ4YTlkYzgyMzI0MzIiID48L2Rpdj4KICAgICAgICAKPC9ib2R5Pgo8c2NyaXB0PiAgICAKICAgIAogICAgICAgICAgICB2YXIgbWFwX2MyNmQ2N2Q3NWZlZTQzZDhiODFkOGE5ZGM4MjMyNDMyID0gTC5tYXAoCiAgICAgICAgICAgICAgICAibWFwX2MyNmQ2N2Q3NWZlZTQzZDhiODFkOGE5ZGM4MjMyNDMyIiwKICAgICAgICAgICAgICAgIHsKICAgICAgICAgICAgICAgICAgICBjZW50ZXI6IFs0Ny4yMTY2MjYsIC0xLjU1MTMyMTk5OTk5OTk5OTldLAogICAgICAgICAgICAgICAgICAgIGNyczogTC5DUlMuRVBTRzM4NTcsCiAgICAgICAgICAgICAgICAgICAgem9vbTogMTIsCiAgICAgICAgICAgICAgICAgICAgem9vbUNvbnRyb2w6IHRydWUsCiAgICAgICAgICAgICAgICAgICAgcHJlZmVyQ2FudmFzOiBmYWxzZSwKICAgICAgICAgICAgICAgIH0KICAgICAgICAgICAgKTsKCiAgICAgICAgICAgIAoKICAgICAgICAKICAgIAogICAgICAgICAgICB2YXIgdGlsZV9sYXllcl9mYjA0MGM5NWJkNjI0NjdkOWU1NzM5NTYzNTY2NTAxNyA9IEwudGlsZUxheWVyKAogICAgICAgICAgICAgICAgImh0dHBzOi8ve3N9LnRpbGUub3BlbnN0cmVldG1hcC5vcmcve3p9L3t4fS97eX0ucG5nIiwKICAgICAgICAgICAgICAgIHsiYXR0cmlidXRpb24iOiAiRGF0YSBieSBcdTAwMjZjb3B5OyBcdTAwM2NhIGhyZWY9XCJodHRwOi8vb3BlbnN0cmVldG1hcC5vcmdcIlx1MDAzZU9wZW5TdHJlZXRNYXBcdTAwM2MvYVx1MDAzZSwgdW5kZXIgXHUwMDNjYSBocmVmPVwiaHR0cDovL3d3dy5vcGVuc3RyZWV0bWFwLm9yZy9jb3B5cmlnaHRcIlx1MDAzZU9EYkxcdTAwM2MvYVx1MDAzZS4iLCAiZGV0ZWN0UmV0aW5hIjogZmFsc2UsICJtYXhOYXRpdmVab29tIjogMTgsICJtYXhab29tIjogMTgsICJtaW5ab29tIjogMCwgIm5vV3JhcCI6IGZhbHNlLCAib3BhY2l0eSI6IDEsICJzdWJkb21haW5zIjogImFiYyIsICJ0bXMiOiBmYWxzZX0KICAgICAgICAgICAgKS5hZGRUbyhtYXBfYzI2ZDY3ZDc1ZmVlNDNkOGI4MWQ4YTlkYzgyMzI0MzIpOwogICAgICAgIAogICAgCiAgICAgICAgZnVuY3Rpb24gZ2VvX2pzb25fOTM3M2VhMzUyY2Q3NDdiNjljZTMzODY1YTY4NWNjNThfb25FYWNoRmVhdHVyZShmZWF0dXJlLCBsYXllcikgewogICAgICAgICAgICBsYXllci5vbih7CiAgICAgICAgICAgICAgICBjbGljazogZnVuY3Rpb24oZSkgewogICAgICAgICAgICAgICAgICAgIG1hcF9jMjZkNjdkNzVmZWU0M2Q4YjgxZDhhOWRjODIzMjQzMi5maXRCb3VuZHMoZS50YXJnZXQuZ2V0Qm91bmRzKCkpOwogICAgICAgICAgICAgICAgfQogICAgICAgICAgICB9KTsKICAgICAgICB9OwogICAgICAgIHZhciBnZW9fanNvbl85MzczZWEzNTJjZDc0N2I2OWNlMzM4NjVhNjg1Y2M1OCA9IEwuZ2VvSnNvbihudWxsLCB7CiAgICAgICAgICAgICAgICBvbkVhY2hGZWF0dXJlOiBnZW9fanNvbl85MzczZWEzNTJjZDc0N2I2OWNlMzM4NjVhNjg1Y2M1OF9vbkVhY2hGZWF0dXJlLAogICAgICAgICAgICAKICAgICAgICB9KS5hZGRUbyhtYXBfYzI2ZDY3ZDc1ZmVlNDNkOGI4MWQ4YTlkYzgyMzI0MzIpOwogICAgICAgICAgICBnZW9fanNvbl85MzczZWEzNTJjZDc0N2I2OWNlMzM4NjVhNjg1Y2M1OC5hZGREYXRhKHsiYmJveCI6IFstMS41NjY4MTIsIDQ3LjIwNjcwNywgLTEuNTM4MDgsIDQ3LjIyNzldLCAiZmVhdHVyZXMiOiBbeyJnZW9tZXRyeSI6IHsiY29vcmRpbmF0ZXMiOiBbW1stMS41NjY4MTIsIDQ3LjIxNTcwNl0sIFstMS41NjYwMjcsIDQ3LjIxMTc0OF0sIFstMS41NjU5MjEsIDQ3LjIxMTYwM10sIFstMS41NjQ1NjksIDQ3LjIxMDM2Nl0sIFstMS41NjM1MTUsIDQ3LjIwOTUxOV0sIFstMS41NjE2MzIsIDQ3LjIwODk2OF0sIFstMS41NjAxMjksIDQ3LjIwODUzMV0sIFstMS41NTYzNDMsIDQ3LjIwNzYwNl0sIFstMS41NTEwNjIsIDQ3LjIwNjcyOV0sIFstMS41NTA4MjEsIDQ3LjIwNjcwN10sIFstMS41NDc5MiwgNDcuMjA3MTFdLCBbLTEuNTQ3NjQ5LCA0Ny4yMDcxOTVdLCBbLTEuNTQzMDAxLCA0Ny4yMDg4MDRdLCBbLTEuNTQyNDI2LCA0Ny4yMDkwMzZdLCBbLTEuNTQwMTY2LCA0Ny4yMTA2NzZdLCBbLTEuNTQwMDUsIDQ3LjIxMDc4OV0sIFstMS41MzgzODUsIDQ3LjIxNjE3NF0sIFstMS41MzgwOCwgNDcuMjE2OTMzXSwgWy0xLjUzODU2NCwgNDcuMjIwODk5XSwgWy0xLjUzOTQ4LCA0Ny4yMjMwNV0sIFstMS41Mzk1ODksIDQ3LjIyMzE3MV0sIFstMS41NDI4MTQsIDQ3LjIyNjU4NV0sIFstMS41NDMyMSwgNDcuMjI2NzI0XSwgWy0xLjU0NTcyOSwgNDcuMjI3MjY0XSwgWy0xLjU0OTA4OSwgNDcuMjI2ODcxXSwgWy0xLjU1NDE0NSwgNDcuMjI3OV0sIFstMS41NTQyMjYsIDQ3LjIyNzg5XSwgWy0xLjU1Nzk3NywgNDcuMjI3MDk5XSwgWy0xLjU1OTYxMywgNDcuMjI2NTkzXSwgWy0xLjU2MDQ3MywgNDcuMjI2MDMzXSwgWy0xLjU2Mzc0NCwgNDcuMjIzNzkzXSwgWy0xLjU2NDQ5NiwgNDcuMjIyNzUzXSwgWy0xLjU2NTE0NSwgNDcuMjE5ODQ3XSwgWy0xLjU2NjgxMiwgNDcuMjE1NzA2XV1dLCAidHlwZSI6ICJQb2x5Z29uIn0sICJwcm9wZXJ0aWVzIjogeyJjZW50ZXIiOiBbLTEuNTUxMzAzNzk4NTI2Mjc2NSwgNDcuMjE2NTY5NjU0ODE4MTldLCAiZ3JvdXBfaW5kZXgiOiAwLCAidmFsdWUiOiA5MDAuMH0sICJ0eXBlIjogIkZlYXR1cmUifV0sICJtZXRhZGF0YSI6IHsiYXR0cmlidXRpb24iOiAib3BlbnJvdXRlc2VydmljZS5vcmcsIE9wZW5TdHJlZXRNYXAgY29udHJpYnV0b3JzIiwgImVuZ2luZSI6IHsiYnVpbGRfZGF0ZSI6ICIyMDE5LTA4LTEzVDA5OjA3OjE5WiIsICJ2ZXJzaW9uIjogIjUuMC4xIn0sICJxdWVyeSI6IHsiYXR0cmlidXRlcyI6IFsidG90YWxfcG9wIl0sICJsb2NhdGlvbnMiOiBbWy0xLjU1MTMyMTk5OTk5OTk5OTksIDQ3LjIxNjYyNl1dLCAicmFuZ2UiOiBbOTAwLjBdLCAicmFuZ2VfdHlwZSI6ICJ0aW1lIn0sICJzZXJ2aWNlIjogImlzb2Nocm9uZXMiLCAidGltZXN0YW1wIjogMTU2NjU1MTkwNjczNH0sICJ0eXBlIjogIkZlYXR1cmVDb2xsZWN0aW9uIn0pOwogICAgICAgIAogICAgCiAgICAgICAgICAgIHZhciBtYXJrZXJfMzA0MDdiOWE0ZGE3NGY0ZmI4NzRmMzc2M2E2ZjliNDEgPSBMLm1hcmtlcigKICAgICAgICAgICAgICAgIFs0Ny4yMTY2MjYsIC0xLjU1MTMyMTk5OTk5OTk5OTldLAogICAgICAgICAgICAgICAge30KICAgICAgICAgICAgKS5hZGRUbyhtYXBfYzI2ZDY3ZDc1ZmVlNDNkOGI4MWQ4YTlkYzgyMzI0MzIpOwogICAgICAgIAogICAgCiAgICAgICAgICAgIHZhciBpY29uXzQ5NmQ2Njg5ODE2MDQ3YjViYzUzZjc4OTA0MGEyZjljID0gTC5Bd2Vzb21lTWFya2Vycy5pY29uKAogICAgICAgICAgICAgICAgeyJleHRyYUNsYXNzZXMiOiAiZmEtcm90YXRlLTAiLCAiaWNvbiI6ICJob21lIiwgImljb25Db2xvciI6ICIjY2MwMDAwIiwgIm1hcmtlckNvbG9yIjogImxpZ2h0Z3JheSIsICJwcmVmaXgiOiAiZmEifQogICAgICAgICAgICApOwogICAgICAgICAgICBtYXJrZXJfMzA0MDdiOWE0ZGE3NGY0ZmI4NzRmMzc2M2E2ZjliNDEuc2V0SWNvbihpY29uXzQ5NmQ2Njg5ODE2MDQ3YjViYzUzZjc4OTA0MGEyZjljKTsKICAgICAgICAKICAgIAogICAgICAgIHZhciBwb3B1cF84MTM2MTgwMjljZTc0YjEzYjIzMDA1M2Y2ZmEyZDhjNSA9IEwucG9wdXAoeyJtYXhXaWR0aCI6ICIxMDAlIn0pOwoKICAgICAgICAKICAgICAgICAgICAgdmFyIGh0bWxfM2I5ZWNlZjMzOWYyNDRjNjkzNjBiYzhjNDQxMGEyNDUgPSAkKGA8ZGl2IGlkPSJodG1sXzNiOWVjZWYzMzlmMjQ0YzY5MzYwYmM4YzQ0MTBhMjQ1IiBzdHlsZT0id2lkdGg6IDEwMC4wJTsgaGVpZ2h0OiAxMDAuMCU7Ij4yNSBtMiwgIDEgcGnDqGNlcyA3OTAwMCDigqw8L2Rpdj5gKVswXTsKICAgICAgICAgICAgcG9wdXBfODEzNjE4MDI5Y2U3NGIxM2IyMzAwNTNmNmZhMmQ4YzUuc2V0Q29udGVudChodG1sXzNiOWVjZWYzMzlmMjQ0YzY5MzYwYmM4YzQ0MTBhMjQ1KTsKICAgICAgICAKCiAgICAgICAgbWFya2VyXzMwNDA3YjlhNGRhNzRmNGZiODc0ZjM3NjNhNmY5YjQxLmJpbmRQb3B1cChwb3B1cF84MTM2MTgwMjljZTc0YjEzYjIzMDA1M2Y2ZmEyZDhjNSkKICAgICAgICA7CgogICAgICAgIAogICAgCiAgICAKICAgICAgICAgICAgdmFyIG1hcmtlcl83YjRjNTU4NDA1MmQ0ZGY3OTZhYzI3ZjliY2YwODk5MCA9IEwubWFya2VyKAogICAgICAgICAgICAgICAgWzQ3LjIwOTIwMywgLTEuNTUxNDk5XSwKICAgICAgICAgICAgICAgIHt9CiAgICAgICAgICAgICkuYWRkVG8obWFwX2MyNmQ2N2Q3NWZlZTQzZDhiODFkOGE5ZGM4MjMyNDMyKTsKICAgICAgICAKICAgIAogICAgICAgICAgICB2YXIgaWNvbl84YmRhN2M5NWY3MDI0ZGQzYmE0ZTg4MjI0OGE3MzIxOCA9IEwuQXdlc29tZU1hcmtlcnMuaWNvbigKICAgICAgICAgICAgICAgIHsiZXh0cmFDbGFzc2VzIjogImZhLXJvdGF0ZS0wIiwgImljb24iOiAicHVzaHBpbiIsICJpY29uQ29sb3IiOiAiI2NjMDAwMCIsICJtYXJrZXJDb2xvciI6ICJibHVlIiwgInByZWZpeCI6ICJmYSJ9CiAgICAgICAgICAgICk7CiAgICAgICAgICAgIG1hcmtlcl83YjRjNTU4NDA1MmQ0ZGY3OTZhYzI3ZjliY2YwODk5MC5zZXRJY29uKGljb25fOGJkYTdjOTVmNzAyNGRkM2JhNGU4ODIyNDhhNzMyMTgpOwogICAgICAgIAogICAgCiAgICAgICAgICAgIHZhciBtYXJrZXJfNWMxZDJiNGU5Njg2NDVlY2E5MmI2NjJmZDk5Y2Q1NTUgPSBMLm1hcmtlcigKICAgICAgICAgICAgICAgIFs0Ny4yMjU5MzQsIC0xLjU0NjUwOV0sCiAgICAgICAgICAgICAgICB7fQogICAgICAgICAgICApLmFkZFRvKG1hcF9jMjZkNjdkNzVmZWU0M2Q4YjgxZDhhOWRjODIzMjQzMik7CiAgICAgICAgCiAgICAKICAgICAgICAgICAgdmFyIGljb25fOGFhZTI1MTVkNmYyNGJkZTg4ZjEyNTY5ZjhhNjg0MDggPSBMLkF3ZXNvbWVNYXJrZXJzLmljb24oCiAgICAgICAgICAgICAgICB7ImV4dHJhQ2xhc3NlcyI6ICJmYS1yb3RhdGUtMCIsICJpY29uIjogInB1c2hwaW4iLCAiaWNvbkNvbG9yIjogIiNjYzAwMDAiLCAibWFya2VyQ29sb3IiOiAiYmx1ZSIsICJwcmVmaXgiOiAiZmEifQogICAgICAgICAgICApOwogICAgICAgICAgICBtYXJrZXJfNWMxZDJiNGU5Njg2NDVlY2E5MmI2NjJmZDk5Y2Q1NTUuc2V0SWNvbihpY29uXzhhYWUyNTE1ZDZmMjRiZGU4OGYxMjU2OWY4YTY4NDA4KTsKICAgICAgICAKICAgIAogICAgICAgICAgICB2YXIgbWFya2VyX2QxMzEwYjBjODFlYjRjMThhNmE4MzA4N2U2MjdkNWIzID0gTC5tYXJrZXIoCiAgICAgICAgICAgICAgICBbNDcuMjI1NzM0LCAtMS41NTg1MTVdLAogICAgICAgICAgICAgICAge30KICAgICAgICAgICAgKS5hZGRUbyhtYXBfYzI2ZDY3ZDc1ZmVlNDNkOGI4MWQ4YTlkYzgyMzI0MzIpOwogICAgICAgIAogICAgCiAgICAgICAgICAgIHZhciBpY29uX2IwYjJkNGZjYTQwMzRkZTJiMWU3NThmNWJhMDVlZDk2ID0gTC5Bd2Vzb21lTWFya2Vycy5pY29uKAogICAgICAgICAgICAgICAgeyJleHRyYUNsYXNzZXMiOiAiZmEtcm90YXRlLTAiLCAiaWNvbiI6ICJwdXNocGluIiwgImljb25Db2xvciI6ICIjY2MwMDAwIiwgIm1hcmtlckNvbG9yIjogImJsdWUiLCAicHJlZml4IjogImZhIn0KICAgICAgICAgICAgKTsKICAgICAgICAgICAgbWFya2VyX2QxMzEwYjBjODFlYjRjMThhNmE4MzA4N2U2MjdkNWIzLnNldEljb24oaWNvbl9iMGIyZDRmY2E0MDM0ZGUyYjFlNzU4ZjViYTA1ZWQ5Nik7CiAgICAgICAgCiAgICAKICAgICAgICAgICAgdmFyIG1hcmtlcl82MmRiODFmYmNlMTA0ZDlmYWE3OWUzYWMyNjhlOGQ2OSA9IEwubWFya2VyKAogICAgICAgICAgICAgICAgWzQ3LjIxMDU1LCAtMS41NTMxNzRdLAogICAgICAgICAgICAgICAge30KICAgICAgICAgICAgKS5hZGRUbyhtYXBfYzI2ZDY3ZDc1ZmVlNDNkOGI4MWQ4YTlkYzgyMzI0MzIpOwogICAgICAgIAogICAgCiAgICAgICAgICAgIHZhciBpY29uX2Q4NDM1MzEyZDJhNzRlOTViZjNmNzBjOGJiODE4M2JjID0gTC5Bd2Vzb21lTWFya2Vycy5pY29uKAogICAgICAgICAgICAgICAgeyJleHRyYUNsYXNzZXMiOiAiZmEtcm90YXRlLTAiLCAiaWNvbiI6ICJwdXNocGluIiwgImljb25Db2xvciI6ICIjY2MwMDAwIiwgIm1hcmtlckNvbG9yIjogImJsdWUiLCAicHJlZml4IjogImZhIn0KICAgICAgICAgICAgKTsKICAgICAgICAgICAgbWFya2VyXzYyZGI4MWZiY2UxMDRkOWZhYTc5ZTNhYzI2OGU4ZDY5LnNldEljb24oaWNvbl9kODQzNTMxMmQyYTc0ZTk1YmYzZjcwYzhiYjgxODNiYyk7CiAgICAgICAgCiAgICAKICAgICAgICAgICAgdmFyIG1hcmtlcl9iMGU3NjFiM2Q4MTE0ZjE2ODlkNzAzOGIyZTdiY2EwYSA9IEwubWFya2VyKAogICAgICAgICAgICAgICAgWzQ3LjIxMDA0LCAtMS41NTgxODRdLAogICAgICAgICAgICAgICAge30KICAgICAgICAgICAgKS5hZGRUbyhtYXBfYzI2ZDY3ZDc1ZmVlNDNkOGI4MWQ4YTlkYzgyMzI0MzIpOwogICAgICAgIAogICAgCiAgICAgICAgICAgIHZhciBpY29uX2Y1MjVmZjUyMTBkYTQ4MDdiNmMwNzRkYzhhZTc5MjgzID0gTC5Bd2Vzb21lTWFya2Vycy5pY29uKAogICAgICAgICAgICAgICAgeyJleHRyYUNsYXNzZXMiOiAiZmEtcm90YXRlLTAiLCAiaWNvbiI6ICJwdXNocGluIiwgImljb25Db2xvciI6ICIjY2MwMDAwIiwgIm1hcmtlckNvbG9yIjogImJsdWUiLCAicHJlZml4IjogImZhIn0KICAgICAgICAgICAgKTsKICAgICAgICAgICAgbWFya2VyX2IwZTc2MWIzZDgxMTRmMTY4OWQ3MDM4YjJlN2JjYTBhLnNldEljb24oaWNvbl9mNTI1ZmY1MjEwZGE0ODA3YjZjMDc0ZGM4YWU3OTI4Myk7CiAgICAgICAgCjwvc2NyaXB0Pg==\" style=\"position:absolute;width:100%;height:100%;left:0;top:0;border:none !important;\" allowfullscreen webkitallowfullscreen mozallowfullscreen></iframe></div></div>"
      ],
      "text/plain": [
       "<folium.folium.Map at 0x118e3d810>"
      ]
     },
     "execution_count": 9,
     "metadata": {},
     "output_type": "execute_result"
    }
   ],
   "source": [
    "POI_CLIENT = openrouteservice.Client(base_url='http://localhost:22222')\n",
    "\n",
    "map1 = folium.Map(tiles='openstreetmap', location=([47.218371, -1.553621]), zoom_start=12)\n",
    "\n",
    "categories_poi = {\n",
    "        'hospital':[843],\n",
    "    }\n",
    "\n",
    "getPOIForHouse(house_dataset, categories_poi, map1, 3)"
   ]
  },
  {
   "cell_type": "code",
   "execution_count": 10,
   "metadata": {},
   "outputs": [
    {
     "name": "stderr",
     "output_type": "stream",
     "text": [
      "/usr/local/lib/python3.7/site-packages/ipykernel_launcher.py:7: FutureWarning: `item` has been deprecated and will be removed in a future version\n",
      "  import sys\n",
      "/usr/local/lib/python3.7/site-packages/ipykernel_launcher.py:34: FutureWarning: `item` has been deprecated and will be removed in a future version\n",
      "/usr/local/lib/python3.7/site-packages/ipykernel_launcher.py:38: FutureWarning: `item` has been deprecated and will be removed in a future version\n",
      "/usr/local/lib/python3.7/site-packages/ipykernel_launcher.py:40: FutureWarning: `item` has been deprecated and will be removed in a future version\n"
     ]
    },
    {
     "data": {
      "text/html": [
       "<div style=\"width:100%;\"><div style=\"position:relative;width:100%;height:0;padding-bottom:60%;\"><iframe src=\"data:text/html;charset=utf-8;base64,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\" style=\"position:absolute;width:100%;height:100%;left:0;top:0;border:none !important;\" allowfullscreen webkitallowfullscreen mozallowfullscreen></iframe></div></div>"
      ],
      "text/plain": [
       "<folium.folium.Map at 0x118e59650>"
      ]
     },
     "execution_count": 10,
     "metadata": {},
     "output_type": "execute_result"
    }
   ],
   "source": [
    "map1 = folium.Map(tiles='openstreetmap', location=([47.218371, -1.553621]), zoom_start=12)\n",
    "\n",
    "getPOIGroupForHouseMap(house_dataset.iloc[[3]], [840], map1)"
   ]
  },
  {
   "cell_type": "markdown",
   "metadata": {},
   "source": [
    "# Data embedding  \n",
    "On identifie 5 catégories distinctes. Les nombres associés à chaque catégories ou points d'intérêts est l'identifiant unique.\n",
    "Celui-ci permet de récupérer les informations via l'API\n",
    "\n",
    " * Les transports -> 800\n",
    "   * arrêt de bus -> 801  \n",
    "   * arrêt de tram -> 802\n",
    "   * gare SNCF -> 803\n",
    "   \n",
    "* Les parcs -> 810\n",
    "  * parc -> 811\n",
    "  * jeu pour enfant -> 812\n",
    "  \n",
    "* La vie courante -> 820\n",
    "  * supermarché -> 821\n",
    "  * épicier -> 822\n",
    "  * mairie -> 823\n",
    "  * pharmacie -> 824\n",
    "  * établissement social -> 825\n",
    "  \n",
    "* Les distractions  -> 830\n",
    "  * zoo  -> 831\n",
    "  * gallerie d'art  -> 832\n",
    "  * musée  -> 833\n",
    "  * librairie  -> 834\n",
    "  * centre artistique  -> 835\n",
    "  * restaurant  -> 836\n",
    "  * bar  -> 837\n",
    "  * lieux de culte  -> 838\n",
    "\n",
    "* Les soins -> 840\n",
    "  * docteurs -> 841\n",
    "  * clinic -> 842\n",
    "  * hospital -> 843"
   ]
  },
  {
   "cell_type": "code",
   "execution_count": 11,
   "metadata": {},
   "outputs": [],
   "source": [
    "def addPOIs(data):\n",
    "    index = 0\n",
    "    for i, row in data.iterrows():\n",
    "        iso, foot_list_pois = getPOIGroupForHouse(row, [800,810,820,830,840], timeOrDistance=600, profile='foot-walking') # 10 min by foot\n",
    "        iso, car_list_pois = getPOIGroupForHouse(row, [800,810,820,830,840], timeOrDistance=300, profile='driving-car') # 5 min by car\n",
    "        \n",
    "        tmp = {}\n",
    "        for poi in foot_list_pois:\n",
    "            for cat, info in poi['properties']['category_ids'].items():\n",
    "                col_name = 'foot/' + info['category_group'] + '/' + info['category_name']\n",
    "                if col_name in tmp:\n",
    "                    tmp[col_name] += 1\n",
    "                else:\n",
    "                    tmp[col_name] = 1\n",
    "        for col_name, number in tmp.items():\n",
    "            data.loc[i,col_name] = number  \n",
    "            \n",
    "        tmp = {}\n",
    "        for poi in car_list_pois:\n",
    "            for cat, info in poi['properties']['category_ids'].items():\n",
    "                col_name = 'car/' + info['category_group'] + '/' + info['category_name']\n",
    "                if col_name in tmp:\n",
    "                    tmp[col_name] += 1\n",
    "                else:\n",
    "                    tmp[col_name] = 1\n",
    "                    \n",
    "        for col_name, number in tmp.items():\n",
    "            data.loc[i,col_name] = number\n",
    "        \n",
    "        index += 1\n",
    "        sys.stdout.write('\\r')\n",
    "        sys.stdout.write('{}%' .format(round(((index+1) * 100)/data.shape[0],2)))\n",
    "        sys.stdout.flush()\n",
    "        \n",
    "    filter_col = [col for col in data if col.startswith('car') or col.startswith('foot')]\n",
    "    data[filter_col] = data[filter_col].fillna(value=0)\n",
    "        \n",
    "    return data"
   ]
  },
  {
   "cell_type": "code",
   "execution_count": null,
   "metadata": {},
   "outputs": [],
   "source": [
    "enriched_df = addPOIs(house_dataset)"
   ]
  }
 ],
 "metadata": {
  "kernelspec": {
   "display_name": "Python 3",
   "language": "python",
   "name": "python3"
  },
  "language_info": {
   "codemirror_mode": {
    "name": "ipython",
    "version": 3
   },
   "file_extension": ".py",
   "mimetype": "text/x-python",
   "name": "python",
   "nbconvert_exporter": "python",
   "pygments_lexer": "ipython3",
   "version": "3.7.4"
  }
 },
 "nbformat": 4,
 "nbformat_minor": 2
}
